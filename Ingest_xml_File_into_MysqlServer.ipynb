{
 "cells": [
  {
   "cell_type": "code",
   "execution_count": null,
   "id": "b23808d8",
   "metadata": {},
   "outputs": [],
   "source": [
    "# import libraries\n",
    "\n",
    "import xml.etree.ElementTree as ET\n",
    "import mysql.connector as msql\n",
    "from mysql.connector import Error"
   ]
  },
  {
   "cell_type": "code",
   "execution_count": null,
   "id": "b3c1551e",
   "metadata": {},
   "outputs": [],
   "source": [
    "# create a connection to a server and create a database\n",
    "\n",
    "try:\n",
    "    conn = msql.connect(host=\"<hostname>\", user =\"<username>\", password =\"<password>\")\n",
    "    if conn.is_connected():\n",
    "        cursor = conn.cursor()\n",
    "        cursor.execute(\"CREATE DATABASE dbName\")\n",
    "        print(\"Database is created\")\n",
    "\n",
    "except Error as e:\n",
    "    print(\"Error while connecting to MySQL\", e)"
   ]
  },
  {
   "cell_type": "code",
   "execution_count": null,
   "id": "23f1ff18",
   "metadata": {},
   "outputs": [],
   "source": [
    "#connect to a database\n",
    "conn = msql.connect(host='<hostname>',database='dbName',user='<username>',password='<password>')\n",
    "\n",
    "\n",
    "cursor = conn.cursor()\n",
    "cursor.execute(\"select database();\")\n",
    "record = cursor.fetchone()\n",
    "print(\"You're connected to database: \", record)\n",
    "\n",
    "#drop a table if exist\n",
    "cursor.execute('DROP TABLE IF EXISTS users;')\n",
    "print('Creating table....')\n",
    "\n",
    "# create table\n",
    "cursor.execute(\"CREATE TABLE users(userID int(20),userName varchar(255))\")\n",
    "print(\"Table is created....\")"
   ]
  },
  {
   "cell_type": "code",
   "execution_count": null,
   "id": "3589c933",
   "metadata": {},
   "outputs": [],
   "source": [
    "# reading xml file \n",
    "tree = ET.parse('users.xml')\n",
    "  \n",
    "# in our xml file user is the root\n",
    "user_data = tree.findall('user')\n",
    "  \n",
    "# retrieving the data and insert into table\n",
    "# i value for xml data \n",
    "\n",
    "for i in user_data:\n",
    "    id = i.find('userID').text\n",
    "    name = i.find('userName').text\n",
    "    \n",
    "    # sql query to insert data into database\n",
    "    data = \"\"\"INSERT INTO users(userID,userName) VALUES(%s,%s)\"\"\"\n",
    "  \n",
    "    # creating the cursor object\n",
    "    c = conn.cursor()\n",
    "      \n",
    "    # executing cursor object\n",
    "    c.execute(data, (id,name))\n",
    "    conn.commit()\n",
    "\n",
    "print(\"Data inserted successfully.\")"
   ]
  }
 ],
 "metadata": {
  "kernelspec": {
   "display_name": "Python 3 (ipykernel)",
   "language": "python",
   "name": "python3"
  },
  "language_info": {
   "codemirror_mode": {
    "name": "ipython",
    "version": 3
   },
   "file_extension": ".py",
   "mimetype": "text/x-python",
   "name": "python",
   "nbconvert_exporter": "python",
   "pygments_lexer": "ipython3",
   "version": "3.9.12"
  }
 },
 "nbformat": 4,
 "nbformat_minor": 5
}
