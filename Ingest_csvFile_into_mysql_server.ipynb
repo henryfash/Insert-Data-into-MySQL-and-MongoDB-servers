{
 "cells": [
  {
   "cell_type": "markdown",
   "id": "34291d85",
   "metadata": {},
   "source": [
    "### Import libraries, create dataframe and data cleaning"
   ]
  },
  {
   "cell_type": "code",
   "execution_count": null,
   "id": "10731ced",
   "metadata": {},
   "outputs": [],
   "source": [
    "#import libraries\n",
    "import mysql.connector as msql\n",
    "#from mysql.connector import Error\n",
    "import pandas as pd"
   ]
  },
  {
   "cell_type": "code",
   "execution_count": null,
   "id": "9f267233",
   "metadata": {},
   "outputs": [],
   "source": [
    "#create dataframe\n",
    "\n",
    "users_df = pd.read_csv(\"./user.csv\")\n",
    "users_df.head(2)"
   ]
  },
  {
   "cell_type": "code",
   "execution_count": null,
   "id": "0981db9a",
   "metadata": {},
   "outputs": [],
   "source": [
    "#check for missing values in users dataframe\n",
    "\n",
    "users_df.isnull().sum()"
   ]
  },
  {
   "cell_type": "code",
   "execution_count": null,
   "id": "20f8b0d5",
   "metadata": {
    "scrolled": true
   },
   "outputs": [],
   "source": [
    "#create dataframe\n",
    "\n",
    "message_df = pd.read_csv(\"./message.csv\")\n",
    "group_df = pd.read_csv(\"./group.csv\")\n",
    "user_group_df = pd.read_csv(\"./user_has_group.csv\")"
   ]
  },
  {
   "cell_type": "code",
   "execution_count": null,
   "id": "4444d9e6",
   "metadata": {},
   "outputs": [],
   "source": [
    "#check for missing values in the messages dataframe\n",
    "\n",
    "message_df.isnull().sum()"
   ]
  },
  {
   "cell_type": "code",
   "execution_count": null,
   "id": "43631ee5",
   "metadata": {
    "scrolled": true
   },
   "outputs": [],
   "source": [
    "#show the dataframe head\n",
    "\n",
    "message_df.head(3)"
   ]
  },
  {
   "cell_type": "code",
   "execution_count": null,
   "id": "2b8d3d22",
   "metadata": {},
   "outputs": [],
   "source": [
    "#replace missing values in the date column with 'Not Available'\n",
    "\n",
    "message_df[\"date\"].fillna(\"Not Available\", inplace=True)"
   ]
  },
  {
   "cell_type": "code",
   "execution_count": null,
   "id": "a053e433",
   "metadata": {
    "scrolled": true
   },
   "outputs": [],
   "source": [
    "#check for missing values in the group dataframe\n",
    "\n",
    "group_df.isnull().sum()"
   ]
  },
  {
   "cell_type": "code",
   "execution_count": null,
   "id": "c5a59a68",
   "metadata": {},
   "outputs": [],
   "source": [
    "#show the dataframe head\n",
    "group_df.head()"
   ]
  },
  {
   "cell_type": "code",
   "execution_count": null,
   "id": "618fd5fb",
   "metadata": {},
   "outputs": [],
   "source": [
    "#replace missing values in the date column with 'Not Available'\n",
    "\n",
    "group_df.fillna(\"Not Available\",inplace=True)"
   ]
  },
  {
   "cell_type": "markdown",
   "id": "c9f35655",
   "metadata": {},
   "source": [
    "### Connecting to the server, creating database"
   ]
  },
  {
   "cell_type": "code",
   "execution_count": null,
   "id": "003588e5",
   "metadata": {},
   "outputs": [],
   "source": [
    "# connect to mysql server\n",
    "conn = msql.connect(host=\"<hostname>\",user =\"<username>\",password=\"<password>\")\n",
    "\n",
    "# create database\n",
    "cursor = conn.cursor()\n",
    "cursor.execute(\"CREATE DATABASE newDB\")\n",
    "print(\"Database was created\")"
   ]
  },
  {
   "cell_type": "markdown",
   "id": "8319a6ab",
   "metadata": {},
   "source": [
    "### Creating tables"
   ]
  },
  {
   "cell_type": "code",
   "execution_count": null,
   "id": "f827030e",
   "metadata": {},
   "outputs": [],
   "source": [
    "# connect to the database\n",
    "conn = msql.connect(host='<hostname>', database='newDB', user='<username>', password='<password>')\n",
    "\n",
    "\n",
    "cursor = conn.cursor()\n",
    "cursor.execute(\"select database();\")\n",
    "record = cursor.fetchone()\n",
    "print(\"You're connected to database: \", record)\n",
    "\n",
    "#drop table if exist\n",
    "cursor.execute('DROP TABLE IF EXISTS users;')\n",
    "print('Creating tables....')\n",
    "\n",
    "# create table\n",
    "cursor.execute(\"CREATE TABLE users(userID int(20),userName varchar(255))\")\n",
    "print(\"Table was created....\")"
   ]
  },
  {
   "cell_type": "code",
   "execution_count": null,
   "id": "5ca88966",
   "metadata": {},
   "outputs": [],
   "source": [
    "#drop table if exist\n",
    "cursor.execute('DROP TABLE IF EXISTS messages;')\n",
    "print('Creating table....')\n",
    "\n",
    "# create table\n",
    "cursor.execute(\n",
    "    \"CREATE TABLE messages(messageID int(20),text varchar(15000),date varchar(255),group_GroupID int(20),sender_userID int(20))\")\n",
    "print(\"Table was created....\")"
   ]
  },
  {
   "cell_type": "code",
   "execution_count": null,
   "id": "50c1ce2c",
   "metadata": {},
   "outputs": [],
   "source": [
    "#drop table if exist\n",
    "cursor.execute('DROP TABLE IF EXISTS classGroups;')\n",
    "print('Creating table....')\n",
    "\n",
    "# create table\n",
    "cursor.execute(\"CREATE TABLE classGroups(groupID int(20),avatar varchar(255) null,name varchar(255),admin_userID int(20))\")\n",
    "print(\"Table was created....\")"
   ]
  },
  {
   "cell_type": "code",
   "execution_count": null,
   "id": "0a267895",
   "metadata": {},
   "outputs": [],
   "source": [
    "#drop table if exist\n",
    "cursor.execute('DROP TABLE IF EXISTS userGroups;')\n",
    "print('Creating tables....')\n",
    "\n",
    "# create table\n",
    "cursor.execute(\"CREATE TABLE userGroups(user_UserID int(20),group_GroupID int(20))\")\n",
    "print(\"Table was created....\")"
   ]
  },
  {
   "cell_type": "markdown",
   "id": "7076e546",
   "metadata": {},
   "source": [
    "### Insert data into the tables"
   ]
  },
  {
   "cell_type": "code",
   "execution_count": null,
   "id": "cda37039",
   "metadata": {},
   "outputs": [],
   "source": [
    "# loop through the data frame\n",
    "\n",
    "for i,row in users_df.iterrows(): \n",
    "    sql = \"INSERT INTO newDB.users VALUES (%s,%s)\"   # %S means string values\n",
    "    cursor.execute(sql, tuple(row))\n",
    "    \n",
    "    conn.commit() # commit to save changes\n",
    "    "
   ]
  },
  {
   "cell_type": "code",
   "execution_count": null,
   "id": "595585d5",
   "metadata": {},
   "outputs": [],
   "source": [
    "# loop through the data frame\n",
    "\n",
    "for i,row in message_df.iterrows(): \n",
    "    sql = \"INSERT INTO newDB.messages VALUES (%s,%s,%s,%s,%s)\" \n",
    "    cursor.execute(sql, tuple(row))\n",
    "   \n",
    "    conn.commit()"
   ]
  },
  {
   "cell_type": "code",
   "execution_count": null,
   "id": "7c7ae7fc",
   "metadata": {},
   "outputs": [],
   "source": [
    "# loop through the data frame\n",
    "\n",
    "for i,row in group_df.iterrows(): \n",
    "    sql = \"INSERT INTO newDB.classGroups VALUES (%s,%s,%s,%s)\"   \n",
    "    cursor.execute(sql, tuple(row))\n",
    "    \n",
    "    conn.commit()\n",
    "    "
   ]
  },
  {
   "cell_type": "code",
   "execution_count": null,
   "id": "becd3235",
   "metadata": {},
   "outputs": [],
   "source": [
    "# loop through the data frame\n",
    "j = 0   #initialize counter\n",
    "\n",
    "for i,row in user_group_df.iterrows():  \n",
    "    sql = \"INSERT INTO newDB.userGroups VALUES (%s,%s)\" \n",
    "    cursor.execute(sql, tuple(row))\n",
    "    j+=1\n",
    "    \n",
    "    conn.commit()\n",
    "    \n",
    "print(j,\"Record inserted in userGroups Table\")    #output the number of records inserted"
   ]
  },
  {
   "cell_type": "code",
   "execution_count": null,
   "id": "035625fa",
   "metadata": {},
   "outputs": [],
   "source": []
  }
 ],
 "metadata": {
  "kernelspec": {
   "display_name": "Python 3 (ipykernel)",
   "language": "python",
   "name": "python3"
  },
  "language_info": {
   "codemirror_mode": {
    "name": "ipython",
    "version": 3
   },
   "file_extension": ".py",
   "mimetype": "text/x-python",
   "name": "python",
   "nbconvert_exporter": "python",
   "pygments_lexer": "ipython3",
   "version": "3.9.12"
  }
 },
 "nbformat": 4,
 "nbformat_minor": 5
}
